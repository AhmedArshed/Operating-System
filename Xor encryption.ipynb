{
 "cells": [
  {
   "cell_type": "code",
   "execution_count": 2,
   "metadata": {},
   "outputs": [
    {
     "name": "stdout",
     "output_type": "stream",
     "text": [
      "0\u001d",
      "\u0014\u0014\u0017X\u000f\u0017\n",
      "\u0014\u001c",
      "\n"
     ]
    }
   ],
   "source": [
    "def encrypt(msg , key):\n",
    "    encrypted_msg = \"\"\n",
    "    \n",
    "    for i in msg:\n",
    "        chr_bin = ord(i)\n",
    "        c_encript = chr_bin ^ key\n",
    "        c_encript = chr(c_encript)\n",
    "        \n",
    "        encrypted_msg += c_encript\n",
    "    return encrypted_msg\n",
    "\n",
    "key = 120\n",
    "message = \"Hello world\"\n",
    "\n",
    "text_formed = encrypt(message , key)\n",
    "print(text_formed)\n",
    "\n"
   ]
  },
  {
   "cell_type": "code",
   "execution_count": 5,
   "metadata": {},
   "outputs": [
    {
     "name": "stdout",
     "output_type": "stream",
     "text": [
      "Hello world\n"
     ]
    }
   ],
   "source": [
    "def decript(msg , key):\n",
    "    decripted_message =\"\"\n",
    "    \n",
    "    for i in msg:\n",
    "        chr_bin = ord(i)\n",
    "        c_decript = chr_bin ^ key\n",
    "        c_decript = chr(c_decript)\n",
    "        decripted_message += c_decript\n",
    "    return decripted_message\n",
    "\n",
    "message_recived = decript(text_formed , 120)\n",
    "print(message_recived)"
   ]
  },
  {
   "cell_type": "code",
   "execution_count": null,
   "metadata": {},
   "outputs": [],
   "source": []
  }
 ],
 "metadata": {
  "kernelspec": {
   "display_name": "Python 3",
   "language": "python",
   "name": "python3"
  },
  "language_info": {
   "codemirror_mode": {
    "name": "ipython",
    "version": 3
   },
   "file_extension": ".py",
   "mimetype": "text/x-python",
   "name": "python",
   "nbconvert_exporter": "python",
   "pygments_lexer": "ipython3",
   "version": "3.7.3"
  }
 },
 "nbformat": 4,
 "nbformat_minor": 2
}
